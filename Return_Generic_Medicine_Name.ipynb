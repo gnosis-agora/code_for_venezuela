{
 "cells": [
  {
   "cell_type": "markdown",
   "metadata": {},
   "source": [
    "## Importing Necessary Libraries"
   ]
  },
  {
   "cell_type": "code",
   "execution_count": 67,
   "metadata": {},
   "outputs": [
    {
     "name": "stdout",
     "output_type": "stream",
     "text": [
      "Requirement already satisfied: drugstandards in /Users/markus.ng/anaconda3/lib/python3.6/site-packages (0.6)\n",
      "Requirement already satisfied: python-Levenshtein in /Users/markus.ng/anaconda3/lib/python3.6/site-packages (from drugstandards) (0.12.0)\n",
      "Requirement already satisfied: setuptools in /Users/markus.ng/anaconda3/lib/python3.6/site-packages (from python-Levenshtein->drugstandards) (40.8.0)\n",
      "\u001b[33mYou are using pip version 19.0.1, however version 19.0.3 is available.\n",
      "You should consider upgrading via the 'pip install --upgrade pip' command.\u001b[0m\n",
      "Requirement already up-to-date: nltk in /Users/markus.ng/anaconda3/lib/python3.6/site-packages (3.4)\n",
      "Requirement already satisfied, skipping upgrade: six in /Users/markus.ng/anaconda3/lib/python3.6/site-packages (from nltk) (1.11.0)\n",
      "Requirement already satisfied, skipping upgrade: singledispatch in /Users/markus.ng/anaconda3/lib/python3.6/site-packages (from nltk) (3.4.0.3)\n",
      "\u001b[33mYou are using pip version 19.0.1, however version 19.0.3 is available.\n",
      "You should consider upgrading via the 'pip install --upgrade pip' command.\u001b[0m\n"
     ]
    }
   ],
   "source": [
    "!pip install drugstandards\n",
    "!pip install -U nltk\n",
    "import nltk\n",
    "import drugstandards as drugs"
   ]
  },
  {
   "cell_type": "markdown",
   "metadata": {},
   "source": [
    "## Sample Sentence extracted from Twitter API"
   ]
  },
  {
   "cell_type": "code",
   "execution_count": 2,
   "metadata": {},
   "outputs": [],
   "source": [
    "input_dd_sentence1 = \"Mr. Luis Balza, owner of the restaurant La Chistorra, in # Mérida, is in intensive therapy and requires urgent human albumin and midezolam of 10 or 15 mg (60 amp)\"\n",
    "input_dd_sentence2 = \"It is urgently required for a patient in intensive therapy in #Maracay Ciprofloxacin of 200 gm in ampoule, Levofloxacin of 80g or 750mg and Ertapenem of 1 g in ampoule. Contact: 0424-2594256\"\n",
    "input_dd_sentence3 = \"Between the blackouts, the lack of water and the country, it has been increasingly difficult for us to care for and maintain it. I do not come to ask for money, but we urgently need carbamazepine for seizures. HELP ME TO SPREAD! +58 412-3087928\""
   ]
  },
  {
   "cell_type": "code",
   "execution_count": 62,
   "metadata": {},
   "outputs": [
    {
     "name": "stdout",
     "output_type": "stream",
     "text": [
      "['COLCHICINE']\n"
     ]
    }
   ],
   "source": [
    "# Testing the standardization of drug names\n",
    "print(drugs.standardize([\"COLCHICINA\"],thresh=0.95))"
   ]
  },
  {
   "cell_type": "markdown",
   "metadata": {},
   "source": [
    "## Function \n",
    "Input: A string (tweets) <br>\n",
    "Outputs: A list of generic drug names"
   ]
  },
  {
   "cell_type": "code",
   "execution_count": 63,
   "metadata": {},
   "outputs": [],
   "source": [
    "def extract_medicine_name(input_sentence):\n",
    "    def get_noun(input_sentence):\n",
    "        # function to test if something is a noun\n",
    "        is_noun = lambda pos: pos[:2] == 'NN'\n",
    "        # do the nlp stuff\n",
    "        tokenized = nltk.word_tokenize(input_sentence)\n",
    "        nouns = [word for (word, pos) in nltk.pos_tag(tokenized) if is_noun(pos)] \n",
    "        return nouns\n",
    "    all_nouns = get_noun(input_sentence)\n",
    "    result = []\n",
    "    for i in all_nouns:\n",
    "        generic_drug_name = drugs.standardize([i],thresh=0.95)[0]\n",
    "        if(generic_drug_name):\n",
    "            result.append(generic_drug_name)\n",
    "    return result"
   ]
  },
  {
   "cell_type": "code",
   "execution_count": 64,
   "metadata": {},
   "outputs": [
    {
     "data": {
      "text/plain": [
       "['AMPRENAVIR']"
      ]
     },
     "execution_count": 64,
     "metadata": {},
     "output_type": "execute_result"
    }
   ],
   "source": [
    "extract_medicine_name(input_dd_sentence1)"
   ]
  },
  {
   "cell_type": "code",
   "execution_count": 65,
   "metadata": {},
   "outputs": [
    {
     "data": {
      "text/plain": [
       "['CIPROFLOXACIN', 'LEVOFLOXACIN', 'ERTAPENEM']"
      ]
     },
     "execution_count": 65,
     "metadata": {},
     "output_type": "execute_result"
    }
   ],
   "source": [
    "extract_medicine_name(input_dd_sentence2)"
   ]
  },
  {
   "cell_type": "code",
   "execution_count": 66,
   "metadata": {},
   "outputs": [
    {
     "data": {
      "text/plain": [
       "['CARBAMAZEPINE']"
      ]
     },
     "execution_count": 66,
     "metadata": {},
     "output_type": "execute_result"
    }
   ],
   "source": [
    "extract_medicine_name(input_dd_sentence3)"
   ]
  }
 ],
 "metadata": {
  "kernelspec": {
   "display_name": "Python 3",
   "language": "python",
   "name": "python3"
  },
  "language_info": {
   "codemirror_mode": {
    "name": "ipython",
    "version": 3
   },
   "file_extension": ".py",
   "mimetype": "text/x-python",
   "name": "python",
   "nbconvert_exporter": "python",
   "pygments_lexer": "ipython3",
   "version": "3.6.8"
  }
 },
 "nbformat": 4,
 "nbformat_minor": 2
}
